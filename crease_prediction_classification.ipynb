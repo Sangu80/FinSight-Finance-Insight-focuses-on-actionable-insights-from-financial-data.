{
  "cells": [
    {
      "cell_type": "code",
      "execution_count": 37,
      "id": "ab855016",
      "metadata": {
        "id": "ab855016"
      },
      "outputs": [],
      "source": [
        "import os\n",
        "import pickle\n",
        "import warnings\n",
        "import numpy as np\n",
        "import pandas as pd\n",
        "import altair as alt\n",
        "import seaborn as sns\n",
        "from numpy import mean, std\n",
        "import matplotlib.pyplot as plt\n",
        "from sklearn import preprocessing\n",
        "from sklearn.metrics import f1_score\n",
        "from sklearn.pipeline import Pipeline\n",
        "from sklearn.preprocessing import MinMaxScaler\n",
        "from sklearn.model_selection import cross_val_predict\n",
        "from sklearn.model_selection import RandomizedSearchCV\n",
        "from sklearn.model_selection import train_test_split\n",
        "from sklearn.model_selection import StratifiedKFold, KFold\n",
        "from sklearn.model_selection import PredefinedSplit\n",
        "from sklearn.metrics import confusion_matrix, ConfusionMatrixDisplay\n",
        "from scipy.stats import mode"
      ]
    },
    {
      "cell_type": "code",
      "source": [
        "from google.colab import drive\n",
        "drive.mount('/content/drive')"
      ],
      "metadata": {
        "colab": {
          "base_uri": "https://localhost:8080/"
        },
        "id": "D5LnnHOjBQXC",
        "outputId": "d76a4384-408b-42de-a129-4285b1b1d164"
      },
      "id": "D5LnnHOjBQXC",
      "execution_count": 38,
      "outputs": [
        {
          "output_type": "stream",
          "name": "stdout",
          "text": [
            "Drive already mounted at /content/drive; to attempt to forcibly remount, call drive.mount(\"/content/drive\", force_remount=True).\n"
          ]
        }
      ]
    },
    {
      "cell_type": "markdown",
      "source": [
        "# Import the transformed data."
      ],
      "metadata": {
        "id": "_6qMqhmXbq3x"
      },
      "id": "_6qMqhmXbq3x"
    },
    {
      "cell_type": "code",
      "execution_count": 39,
      "id": "c00d9f62",
      "metadata": {
        "id": "c00d9f62"
      },
      "outputs": [],
      "source": [
        "# save the transformed dataframe\n",
        "df_transformed = pd.read_csv('/content/drive/MyDrive/Machine_Learning_Final_Assignment/Group_assignment_3-Shared/Dataset/df_transformed_with_customer_id.csv')"
      ]
    },
    {
      "cell_type": "code",
      "source": [
        "df_transformed.head(2)\n",
        "df_transformed.drop(['index'], axis=1)"
      ],
      "metadata": {
        "colab": {
          "base_uri": "https://localhost:8080/",
          "height": 904
        },
        "id": "nzSu47NhBbCW",
        "outputId": "306c4749-1a5e-45b6-bb00-f890688b8953"
      },
      "id": "nzSu47NhBbCW",
      "execution_count": 40,
      "outputs": [
        {
          "output_type": "execute_result",
          "data": {
            "text/plain": [
              "                   cc_num             datetime      acct_num  \\\n",
              "0         213140433504880  2018-12-31 13:00:19  280173576486   \n",
              "1            571945341956  2018-12-31 13:00:23   41019526172   \n",
              "2         372853533998243  2018-12-31 13:01:37  467846623753   \n",
              "3            676305937770  2018-12-31 13:02:43  661384884419   \n",
              "4        3547660728326849  2018-12-31 13:04:07  993909782929   \n",
              "...                   ...                  ...           ...   \n",
              "4319827  6570703850360591  2022-12-31 12:59:28  182563338256   \n",
              "4319828  4946209355610391  2022-12-31 12:59:29  232488012574   \n",
              "4319829  4414925316498286  2022-12-31 12:59:29  395217487731   \n",
              "4319830   340534240891645  2022-12-31 12:59:36  160497086732   \n",
              "4319831   349825309251148  2022-12-31 12:59:42    4322238535   \n",
              "\n",
              "                                trans_num   unix_time       category     amt  \\\n",
              "0        a410f9d17a82d616d248d0e65c58420f  1546261219  gas_transport  209.83   \n",
              "1        ba8e37ae12a9b7fe62ed317523c1b702  1546261223  gas_transport  110.47   \n",
              "2        bf3e9ab9554652fcd8e0a50ba8dd1d91  1546261297  gas_transport    9.53   \n",
              "3        f303afd08e32a5046250692754d73c6c  1546261363  gas_transport  199.74   \n",
              "4        80c81bb9612fedaf4eda55e63da5afeb  1546261447  gas_transport    5.16   \n",
              "...                                   ...         ...            ...     ...   \n",
              "4319827  70dd383dc66f82e20fbf52d37a5de1f5  1672491568         travel   24.43   \n",
              "4319828  d88c51c2dc5db1ccdeb3adf58d570c9f  1672491569         travel   21.51   \n",
              "4319829  ede957e0544e56eead0b9361953e9a4d  1672491569         travel  119.89   \n",
              "4319830  27af14fe04c632b2ad87545f461c38f7  1672491576         travel   12.84   \n",
              "4319831  a8ae6580fb68f40ff7c80280fef59145  1672491582         travel   56.67   \n",
              "\n",
              "         is_fraud                      merchant  merch_lat  ...      long  \\\n",
              "0               0                  peterson llc  39.665260  ...  -76.0345   \n",
              "1               0      perez, young and stanley  29.833943  ...  -95.1317   \n",
              "2               0                trujillo-foley  29.400998  ...  -98.6895   \n",
              "3               0                hatfield group  34.317132  ... -117.2290   \n",
              "4               0                      hall plc  38.912612  ... -121.6611   \n",
              "...           ...                           ...        ...  ...       ...   \n",
              "4319827         0                      hall ltd  37.400485  ...  -76.3004   \n",
              "4319828         0    hoffman, gilbert and burns  42.237535  ...  -71.9541   \n",
              "4319829         0    rhodes, anderson and pratt  26.514762  ...  -80.3450   \n",
              "4319830         0       baker, hunter and brown  34.410350  ... -118.1480   \n",
              "4319831         0  joseph, rodriguez and foster  22.026965  ... -157.8006   \n",
              "\n",
              "        city_pop                                       job         dob  \\\n",
              "0         213013                         fisheries officer  1989-03-06   \n",
              "1          31086  conservation officer, historic buildings  1956-05-05   \n",
              "2        1595797                       geologist, wellsite  1985-04-12   \n",
              "3          46239             designer, television/film set  1929-11-07   \n",
              "4          76660                          engineer, mining  1964-08-12   \n",
              "...          ...                                       ...         ...   \n",
              "4319827   242803                 medical technical officer  1987-03-23   \n",
              "4319828     8244               information systems manager  1929-04-18   \n",
              "4319829   181438                            quarry manager  1993-08-07   \n",
              "4319830   471952                    politician's assistant  1971-07-18   \n",
              "4319831   403114                          catering manager  1930-11-23   \n",
              "\n",
              "         transactions_past_5min  transactions_past_30min  \\\n",
              "0                           1.0                      1.0   \n",
              "1                           1.0                      1.0   \n",
              "2                           1.0                      1.0   \n",
              "3                           1.0                      1.0   \n",
              "4                           1.0                      1.0   \n",
              "...                         ...                      ...   \n",
              "4319827                     2.0                      2.0   \n",
              "4319828                     1.0                      1.0   \n",
              "4319829                     1.0                      1.0   \n",
              "4319830                     1.0                      1.0   \n",
              "4319831                     1.0                      2.0   \n",
              "\n",
              "         transactions_past_24H  date_of_birth age  \\\n",
              "0                          1.0     1989-03-06  34   \n",
              "1                          1.0     1956-05-05  67   \n",
              "2                          1.0     1985-04-12  38   \n",
              "3                          1.0     1929-11-07  94   \n",
              "4                          1.0     1964-08-12  59   \n",
              "...                        ...            ...  ..   \n",
              "4319827                   14.0     1987-03-23  36   \n",
              "4319828                    9.0     1929-04-18  94   \n",
              "4319829                   18.0     1993-08-07  30   \n",
              "4319830                   18.0     1971-07-18  52   \n",
              "4319831                    6.0     1930-11-23  93   \n",
              "\n",
              "        customer_merchant_distance_km  \n",
              "0                           95.585795  \n",
              "1                           62.317054  \n",
              "2                            2.006383  \n",
              "3                          120.976584  \n",
              "4                           59.269796  \n",
              "...                               ...  \n",
              "4319827                     71.128710  \n",
              "4319828                     91.850894  \n",
              "4319829                     97.418117  \n",
              "4319830                     97.249090  \n",
              "4319831                     97.104686  \n",
              "\n",
              "[4319832 rows x 26 columns]"
            ],
            "text/html": [
              "\n",
              "  <div id=\"df-891022ad-f9e4-43c1-91bf-b9d1c1685465\">\n",
              "    <div class=\"colab-df-container\">\n",
              "      <div>\n",
              "<style scoped>\n",
              "    .dataframe tbody tr th:only-of-type {\n",
              "        vertical-align: middle;\n",
              "    }\n",
              "\n",
              "    .dataframe tbody tr th {\n",
              "        vertical-align: top;\n",
              "    }\n",
              "\n",
              "    .dataframe thead th {\n",
              "        text-align: right;\n",
              "    }\n",
              "</style>\n",
              "<table border=\"1\" class=\"dataframe\">\n",
              "  <thead>\n",
              "    <tr style=\"text-align: right;\">\n",
              "      <th></th>\n",
              "      <th>cc_num</th>\n",
              "      <th>datetime</th>\n",
              "      <th>acct_num</th>\n",
              "      <th>trans_num</th>\n",
              "      <th>unix_time</th>\n",
              "      <th>category</th>\n",
              "      <th>amt</th>\n",
              "      <th>is_fraud</th>\n",
              "      <th>merchant</th>\n",
              "      <th>merch_lat</th>\n",
              "      <th>...</th>\n",
              "      <th>long</th>\n",
              "      <th>city_pop</th>\n",
              "      <th>job</th>\n",
              "      <th>dob</th>\n",
              "      <th>transactions_past_5min</th>\n",
              "      <th>transactions_past_30min</th>\n",
              "      <th>transactions_past_24H</th>\n",
              "      <th>date_of_birth</th>\n",
              "      <th>age</th>\n",
              "      <th>customer_merchant_distance_km</th>\n",
              "    </tr>\n",
              "  </thead>\n",
              "  <tbody>\n",
              "    <tr>\n",
              "      <th>0</th>\n",
              "      <td>213140433504880</td>\n",
              "      <td>2018-12-31 13:00:19</td>\n",
              "      <td>280173576486</td>\n",
              "      <td>a410f9d17a82d616d248d0e65c58420f</td>\n",
              "      <td>1546261219</td>\n",
              "      <td>gas_transport</td>\n",
              "      <td>209.83</td>\n",
              "      <td>0</td>\n",
              "      <td>peterson llc</td>\n",
              "      <td>39.665260</td>\n",
              "      <td>...</td>\n",
              "      <td>-76.0345</td>\n",
              "      <td>213013</td>\n",
              "      <td>fisheries officer</td>\n",
              "      <td>1989-03-06</td>\n",
              "      <td>1.0</td>\n",
              "      <td>1.0</td>\n",
              "      <td>1.0</td>\n",
              "      <td>1989-03-06</td>\n",
              "      <td>34</td>\n",
              "      <td>95.585795</td>\n",
              "    </tr>\n",
              "    <tr>\n",
              "      <th>1</th>\n",
              "      <td>571945341956</td>\n",
              "      <td>2018-12-31 13:00:23</td>\n",
              "      <td>41019526172</td>\n",
              "      <td>ba8e37ae12a9b7fe62ed317523c1b702</td>\n",
              "      <td>1546261223</td>\n",
              "      <td>gas_transport</td>\n",
              "      <td>110.47</td>\n",
              "      <td>0</td>\n",
              "      <td>perez, young and stanley</td>\n",
              "      <td>29.833943</td>\n",
              "      <td>...</td>\n",
              "      <td>-95.1317</td>\n",
              "      <td>31086</td>\n",
              "      <td>conservation officer, historic buildings</td>\n",
              "      <td>1956-05-05</td>\n",
              "      <td>1.0</td>\n",
              "      <td>1.0</td>\n",
              "      <td>1.0</td>\n",
              "      <td>1956-05-05</td>\n",
              "      <td>67</td>\n",
              "      <td>62.317054</td>\n",
              "    </tr>\n",
              "    <tr>\n",
              "      <th>2</th>\n",
              "      <td>372853533998243</td>\n",
              "      <td>2018-12-31 13:01:37</td>\n",
              "      <td>467846623753</td>\n",
              "      <td>bf3e9ab9554652fcd8e0a50ba8dd1d91</td>\n",
              "      <td>1546261297</td>\n",
              "      <td>gas_transport</td>\n",
              "      <td>9.53</td>\n",
              "      <td>0</td>\n",
              "      <td>trujillo-foley</td>\n",
              "      <td>29.400998</td>\n",
              "      <td>...</td>\n",
              "      <td>-98.6895</td>\n",
              "      <td>1595797</td>\n",
              "      <td>geologist, wellsite</td>\n",
              "      <td>1985-04-12</td>\n",
              "      <td>1.0</td>\n",
              "      <td>1.0</td>\n",
              "      <td>1.0</td>\n",
              "      <td>1985-04-12</td>\n",
              "      <td>38</td>\n",
              "      <td>2.006383</td>\n",
              "    </tr>\n",
              "    <tr>\n",
              "      <th>3</th>\n",
              "      <td>676305937770</td>\n",
              "      <td>2018-12-31 13:02:43</td>\n",
              "      <td>661384884419</td>\n",
              "      <td>f303afd08e32a5046250692754d73c6c</td>\n",
              "      <td>1546261363</td>\n",
              "      <td>gas_transport</td>\n",
              "      <td>199.74</td>\n",
              "      <td>0</td>\n",
              "      <td>hatfield group</td>\n",
              "      <td>34.317132</td>\n",
              "      <td>...</td>\n",
              "      <td>-117.2290</td>\n",
              "      <td>46239</td>\n",
              "      <td>designer, television/film set</td>\n",
              "      <td>1929-11-07</td>\n",
              "      <td>1.0</td>\n",
              "      <td>1.0</td>\n",
              "      <td>1.0</td>\n",
              "      <td>1929-11-07</td>\n",
              "      <td>94</td>\n",
              "      <td>120.976584</td>\n",
              "    </tr>\n",
              "    <tr>\n",
              "      <th>4</th>\n",
              "      <td>3547660728326849</td>\n",
              "      <td>2018-12-31 13:04:07</td>\n",
              "      <td>993909782929</td>\n",
              "      <td>80c81bb9612fedaf4eda55e63da5afeb</td>\n",
              "      <td>1546261447</td>\n",
              "      <td>gas_transport</td>\n",
              "      <td>5.16</td>\n",
              "      <td>0</td>\n",
              "      <td>hall plc</td>\n",
              "      <td>38.912612</td>\n",
              "      <td>...</td>\n",
              "      <td>-121.6611</td>\n",
              "      <td>76660</td>\n",
              "      <td>engineer, mining</td>\n",
              "      <td>1964-08-12</td>\n",
              "      <td>1.0</td>\n",
              "      <td>1.0</td>\n",
              "      <td>1.0</td>\n",
              "      <td>1964-08-12</td>\n",
              "      <td>59</td>\n",
              "      <td>59.269796</td>\n",
              "    </tr>\n",
              "    <tr>\n",
              "      <th>...</th>\n",
              "      <td>...</td>\n",
              "      <td>...</td>\n",
              "      <td>...</td>\n",
              "      <td>...</td>\n",
              "      <td>...</td>\n",
              "      <td>...</td>\n",
              "      <td>...</td>\n",
              "      <td>...</td>\n",
              "      <td>...</td>\n",
              "      <td>...</td>\n",
              "      <td>...</td>\n",
              "      <td>...</td>\n",
              "      <td>...</td>\n",
              "      <td>...</td>\n",
              "      <td>...</td>\n",
              "      <td>...</td>\n",
              "      <td>...</td>\n",
              "      <td>...</td>\n",
              "      <td>...</td>\n",
              "      <td>...</td>\n",
              "      <td>...</td>\n",
              "    </tr>\n",
              "    <tr>\n",
              "      <th>4319827</th>\n",
              "      <td>6570703850360591</td>\n",
              "      <td>2022-12-31 12:59:28</td>\n",
              "      <td>182563338256</td>\n",
              "      <td>70dd383dc66f82e20fbf52d37a5de1f5</td>\n",
              "      <td>1672491568</td>\n",
              "      <td>travel</td>\n",
              "      <td>24.43</td>\n",
              "      <td>0</td>\n",
              "      <td>hall ltd</td>\n",
              "      <td>37.400485</td>\n",
              "      <td>...</td>\n",
              "      <td>-76.3004</td>\n",
              "      <td>242803</td>\n",
              "      <td>medical technical officer</td>\n",
              "      <td>1987-03-23</td>\n",
              "      <td>2.0</td>\n",
              "      <td>2.0</td>\n",
              "      <td>14.0</td>\n",
              "      <td>1987-03-23</td>\n",
              "      <td>36</td>\n",
              "      <td>71.128710</td>\n",
              "    </tr>\n",
              "    <tr>\n",
              "      <th>4319828</th>\n",
              "      <td>4946209355610391</td>\n",
              "      <td>2022-12-31 12:59:29</td>\n",
              "      <td>232488012574</td>\n",
              "      <td>d88c51c2dc5db1ccdeb3adf58d570c9f</td>\n",
              "      <td>1672491569</td>\n",
              "      <td>travel</td>\n",
              "      <td>21.51</td>\n",
              "      <td>0</td>\n",
              "      <td>hoffman, gilbert and burns</td>\n",
              "      <td>42.237535</td>\n",
              "      <td>...</td>\n",
              "      <td>-71.9541</td>\n",
              "      <td>8244</td>\n",
              "      <td>information systems manager</td>\n",
              "      <td>1929-04-18</td>\n",
              "      <td>1.0</td>\n",
              "      <td>1.0</td>\n",
              "      <td>9.0</td>\n",
              "      <td>1929-04-18</td>\n",
              "      <td>94</td>\n",
              "      <td>91.850894</td>\n",
              "    </tr>\n",
              "    <tr>\n",
              "      <th>4319829</th>\n",
              "      <td>4414925316498286</td>\n",
              "      <td>2022-12-31 12:59:29</td>\n",
              "      <td>395217487731</td>\n",
              "      <td>ede957e0544e56eead0b9361953e9a4d</td>\n",
              "      <td>1672491569</td>\n",
              "      <td>travel</td>\n",
              "      <td>119.89</td>\n",
              "      <td>0</td>\n",
              "      <td>rhodes, anderson and pratt</td>\n",
              "      <td>26.514762</td>\n",
              "      <td>...</td>\n",
              "      <td>-80.3450</td>\n",
              "      <td>181438</td>\n",
              "      <td>quarry manager</td>\n",
              "      <td>1993-08-07</td>\n",
              "      <td>1.0</td>\n",
              "      <td>1.0</td>\n",
              "      <td>18.0</td>\n",
              "      <td>1993-08-07</td>\n",
              "      <td>30</td>\n",
              "      <td>97.418117</td>\n",
              "    </tr>\n",
              "    <tr>\n",
              "      <th>4319830</th>\n",
              "      <td>340534240891645</td>\n",
              "      <td>2022-12-31 12:59:36</td>\n",
              "      <td>160497086732</td>\n",
              "      <td>27af14fe04c632b2ad87545f461c38f7</td>\n",
              "      <td>1672491576</td>\n",
              "      <td>travel</td>\n",
              "      <td>12.84</td>\n",
              "      <td>0</td>\n",
              "      <td>baker, hunter and brown</td>\n",
              "      <td>34.410350</td>\n",
              "      <td>...</td>\n",
              "      <td>-118.1480</td>\n",
              "      <td>471952</td>\n",
              "      <td>politician's assistant</td>\n",
              "      <td>1971-07-18</td>\n",
              "      <td>1.0</td>\n",
              "      <td>1.0</td>\n",
              "      <td>18.0</td>\n",
              "      <td>1971-07-18</td>\n",
              "      <td>52</td>\n",
              "      <td>97.249090</td>\n",
              "    </tr>\n",
              "    <tr>\n",
              "      <th>4319831</th>\n",
              "      <td>349825309251148</td>\n",
              "      <td>2022-12-31 12:59:42</td>\n",
              "      <td>4322238535</td>\n",
              "      <td>a8ae6580fb68f40ff7c80280fef59145</td>\n",
              "      <td>1672491582</td>\n",
              "      <td>travel</td>\n",
              "      <td>56.67</td>\n",
              "      <td>0</td>\n",
              "      <td>joseph, rodriguez and foster</td>\n",
              "      <td>22.026965</td>\n",
              "      <td>...</td>\n",
              "      <td>-157.8006</td>\n",
              "      <td>403114</td>\n",
              "      <td>catering manager</td>\n",
              "      <td>1930-11-23</td>\n",
              "      <td>1.0</td>\n",
              "      <td>2.0</td>\n",
              "      <td>6.0</td>\n",
              "      <td>1930-11-23</td>\n",
              "      <td>93</td>\n",
              "      <td>97.104686</td>\n",
              "    </tr>\n",
              "  </tbody>\n",
              "</table>\n",
              "<p>4319832 rows × 26 columns</p>\n",
              "</div>\n",
              "      <button class=\"colab-df-convert\" onclick=\"convertToInteractive('df-891022ad-f9e4-43c1-91bf-b9d1c1685465')\"\n",
              "              title=\"Convert this dataframe to an interactive table.\"\n",
              "              style=\"display:none;\">\n",
              "        \n",
              "  <svg xmlns=\"http://www.w3.org/2000/svg\" height=\"24px\"viewBox=\"0 0 24 24\"\n",
              "       width=\"24px\">\n",
              "    <path d=\"M0 0h24v24H0V0z\" fill=\"none\"/>\n",
              "    <path d=\"M18.56 5.44l.94 2.06.94-2.06 2.06-.94-2.06-.94-.94-2.06-.94 2.06-2.06.94zm-11 1L8.5 8.5l.94-2.06 2.06-.94-2.06-.94L8.5 2.5l-.94 2.06-2.06.94zm10 10l.94 2.06.94-2.06 2.06-.94-2.06-.94-.94-2.06-.94 2.06-2.06.94z\"/><path d=\"M17.41 7.96l-1.37-1.37c-.4-.4-.92-.59-1.43-.59-.52 0-1.04.2-1.43.59L10.3 9.45l-7.72 7.72c-.78.78-.78 2.05 0 2.83L4 21.41c.39.39.9.59 1.41.59.51 0 1.02-.2 1.41-.59l7.78-7.78 2.81-2.81c.8-.78.8-2.07 0-2.86zM5.41 20L4 18.59l7.72-7.72 1.47 1.35L5.41 20z\"/>\n",
              "  </svg>\n",
              "      </button>\n",
              "      \n",
              "  <style>\n",
              "    .colab-df-container {\n",
              "      display:flex;\n",
              "      flex-wrap:wrap;\n",
              "      gap: 12px;\n",
              "    }\n",
              "\n",
              "    .colab-df-convert {\n",
              "      background-color: #E8F0FE;\n",
              "      border: none;\n",
              "      border-radius: 50%;\n",
              "      cursor: pointer;\n",
              "      display: none;\n",
              "      fill: #1967D2;\n",
              "      height: 32px;\n",
              "      padding: 0 0 0 0;\n",
              "      width: 32px;\n",
              "    }\n",
              "\n",
              "    .colab-df-convert:hover {\n",
              "      background-color: #E2EBFA;\n",
              "      box-shadow: 0px 1px 2px rgba(60, 64, 67, 0.3), 0px 1px 3px 1px rgba(60, 64, 67, 0.15);\n",
              "      fill: #174EA6;\n",
              "    }\n",
              "\n",
              "    [theme=dark] .colab-df-convert {\n",
              "      background-color: #3B4455;\n",
              "      fill: #D2E3FC;\n",
              "    }\n",
              "\n",
              "    [theme=dark] .colab-df-convert:hover {\n",
              "      background-color: #434B5C;\n",
              "      box-shadow: 0px 1px 3px 1px rgba(0, 0, 0, 0.15);\n",
              "      filter: drop-shadow(0px 1px 2px rgba(0, 0, 0, 0.3));\n",
              "      fill: #FFFFFF;\n",
              "    }\n",
              "  </style>\n",
              "\n",
              "      <script>\n",
              "        const buttonEl =\n",
              "          document.querySelector('#df-891022ad-f9e4-43c1-91bf-b9d1c1685465 button.colab-df-convert');\n",
              "        buttonEl.style.display =\n",
              "          google.colab.kernel.accessAllowed ? 'block' : 'none';\n",
              "\n",
              "        async function convertToInteractive(key) {\n",
              "          const element = document.querySelector('#df-891022ad-f9e4-43c1-91bf-b9d1c1685465');\n",
              "          const dataTable =\n",
              "            await google.colab.kernel.invokeFunction('convertToInteractive',\n",
              "                                                     [key], {});\n",
              "          if (!dataTable) return;\n",
              "\n",
              "          const docLinkHtml = 'Like what you see? Visit the ' +\n",
              "            '<a target=\"_blank\" href=https://colab.research.google.com/notebooks/data_table.ipynb>data table notebook</a>'\n",
              "            + ' to learn more about interactive tables.';\n",
              "          element.innerHTML = '';\n",
              "          dataTable['output_type'] = 'display_data';\n",
              "          await google.colab.output.renderOutput(dataTable, element);\n",
              "          const docLink = document.createElement('div');\n",
              "          docLink.innerHTML = docLinkHtml;\n",
              "          element.appendChild(docLink);\n",
              "        }\n",
              "      </script>\n",
              "    </div>\n",
              "  </div>\n",
              "  "
            ]
          },
          "metadata": {},
          "execution_count": 40
        }
      ]
    },
    {
      "cell_type": "markdown",
      "source": [
        "# Prepare data"
      ],
      "metadata": {
        "id": "1e3UkZHnrVma"
      },
      "id": "1e3UkZHnrVma"
    },
    {
      "cell_type": "code",
      "source": [
        "df_transformed['datetime'] = pd.to_datetime(df_transformed['datetime'])"
      ],
      "metadata": {
        "id": "RjPl19VyB8L_"
      },
      "id": "RjPl19VyB8L_",
      "execution_count": 41,
      "outputs": []
    },
    {
      "cell_type": "code",
      "execution_count": 42,
      "id": "0d5d50a4",
      "metadata": {
        "id": "0d5d50a4"
      },
      "outputs": [],
      "source": [
        "# Copy the data into a new DataFrame\n",
        "df = df_transformed.copy()\n",
        "df['date'] = pd.to_datetime(df_transformed['datetime'].dt.date)\n",
        "\n",
        "# Group the data by 'date' and 'category', and calculate the aggregations\n",
        "grouped_df = df.groupby(['date', 'cc_num']).agg({\n",
        "    'amt': 'sum',\n",
        "    'trans_num': 'count',\n",
        "    'age': 'max',\n",
        "    'city_pop': 'max'\n",
        "}).reset_index()"
      ]
    },
    {
      "cell_type": "code",
      "execution_count": 43,
      "id": "ff3e803f",
      "metadata": {
        "id": "ff3e803f"
      },
      "outputs": [],
      "source": [
        "# Rename the columns\n",
        "grouped_df.columns = ['Date', 'cc_num', 'Total Spend', 'Transaction Count', 'age', 'city_pop']"
      ]
    },
    {
      "cell_type": "code",
      "execution_count": 44,
      "id": "b534d5ce",
      "metadata": {
        "id": "b534d5ce",
        "outputId": "79d8176f-0dd8-4100-dec4-65b4488ce071",
        "colab": {
          "base_uri": "https://localhost:8080/",
          "height": 81
        }
      },
      "outputs": [
        {
          "output_type": "execute_result",
          "data": {
            "text/plain": [
              "             Date           cc_num  Total Spend  Transaction Count  age  \\\n",
              "954331 2022-06-27  348164938318495        464.6                  7   88   \n",
              "\n",
              "        city_pop  \n",
              "954331    100058  "
            ],
            "text/html": [
              "\n",
              "  <div id=\"df-1c991cf0-00a7-43f2-bd1c-635104a8459a\">\n",
              "    <div class=\"colab-df-container\">\n",
              "      <div>\n",
              "<style scoped>\n",
              "    .dataframe tbody tr th:only-of-type {\n",
              "        vertical-align: middle;\n",
              "    }\n",
              "\n",
              "    .dataframe tbody tr th {\n",
              "        vertical-align: top;\n",
              "    }\n",
              "\n",
              "    .dataframe thead th {\n",
              "        text-align: right;\n",
              "    }\n",
              "</style>\n",
              "<table border=\"1\" class=\"dataframe\">\n",
              "  <thead>\n",
              "    <tr style=\"text-align: right;\">\n",
              "      <th></th>\n",
              "      <th>Date</th>\n",
              "      <th>cc_num</th>\n",
              "      <th>Total Spend</th>\n",
              "      <th>Transaction Count</th>\n",
              "      <th>age</th>\n",
              "      <th>city_pop</th>\n",
              "    </tr>\n",
              "  </thead>\n",
              "  <tbody>\n",
              "    <tr>\n",
              "      <th>954331</th>\n",
              "      <td>2022-06-27</td>\n",
              "      <td>348164938318495</td>\n",
              "      <td>464.6</td>\n",
              "      <td>7</td>\n",
              "      <td>88</td>\n",
              "      <td>100058</td>\n",
              "    </tr>\n",
              "  </tbody>\n",
              "</table>\n",
              "</div>\n",
              "      <button class=\"colab-df-convert\" onclick=\"convertToInteractive('df-1c991cf0-00a7-43f2-bd1c-635104a8459a')\"\n",
              "              title=\"Convert this dataframe to an interactive table.\"\n",
              "              style=\"display:none;\">\n",
              "        \n",
              "  <svg xmlns=\"http://www.w3.org/2000/svg\" height=\"24px\"viewBox=\"0 0 24 24\"\n",
              "       width=\"24px\">\n",
              "    <path d=\"M0 0h24v24H0V0z\" fill=\"none\"/>\n",
              "    <path d=\"M18.56 5.44l.94 2.06.94-2.06 2.06-.94-2.06-.94-.94-2.06-.94 2.06-2.06.94zm-11 1L8.5 8.5l.94-2.06 2.06-.94-2.06-.94L8.5 2.5l-.94 2.06-2.06.94zm10 10l.94 2.06.94-2.06 2.06-.94-2.06-.94-.94-2.06-.94 2.06-2.06.94z\"/><path d=\"M17.41 7.96l-1.37-1.37c-.4-.4-.92-.59-1.43-.59-.52 0-1.04.2-1.43.59L10.3 9.45l-7.72 7.72c-.78.78-.78 2.05 0 2.83L4 21.41c.39.39.9.59 1.41.59.51 0 1.02-.2 1.41-.59l7.78-7.78 2.81-2.81c.8-.78.8-2.07 0-2.86zM5.41 20L4 18.59l7.72-7.72 1.47 1.35L5.41 20z\"/>\n",
              "  </svg>\n",
              "      </button>\n",
              "      \n",
              "  <style>\n",
              "    .colab-df-container {\n",
              "      display:flex;\n",
              "      flex-wrap:wrap;\n",
              "      gap: 12px;\n",
              "    }\n",
              "\n",
              "    .colab-df-convert {\n",
              "      background-color: #E8F0FE;\n",
              "      border: none;\n",
              "      border-radius: 50%;\n",
              "      cursor: pointer;\n",
              "      display: none;\n",
              "      fill: #1967D2;\n",
              "      height: 32px;\n",
              "      padding: 0 0 0 0;\n",
              "      width: 32px;\n",
              "    }\n",
              "\n",
              "    .colab-df-convert:hover {\n",
              "      background-color: #E2EBFA;\n",
              "      box-shadow: 0px 1px 2px rgba(60, 64, 67, 0.3), 0px 1px 3px 1px rgba(60, 64, 67, 0.15);\n",
              "      fill: #174EA6;\n",
              "    }\n",
              "\n",
              "    [theme=dark] .colab-df-convert {\n",
              "      background-color: #3B4455;\n",
              "      fill: #D2E3FC;\n",
              "    }\n",
              "\n",
              "    [theme=dark] .colab-df-convert:hover {\n",
              "      background-color: #434B5C;\n",
              "      box-shadow: 0px 1px 3px 1px rgba(0, 0, 0, 0.15);\n",
              "      filter: drop-shadow(0px 1px 2px rgba(0, 0, 0, 0.3));\n",
              "      fill: #FFFFFF;\n",
              "    }\n",
              "  </style>\n",
              "\n",
              "      <script>\n",
              "        const buttonEl =\n",
              "          document.querySelector('#df-1c991cf0-00a7-43f2-bd1c-635104a8459a button.colab-df-convert');\n",
              "        buttonEl.style.display =\n",
              "          google.colab.kernel.accessAllowed ? 'block' : 'none';\n",
              "\n",
              "        async function convertToInteractive(key) {\n",
              "          const element = document.querySelector('#df-1c991cf0-00a7-43f2-bd1c-635104a8459a');\n",
              "          const dataTable =\n",
              "            await google.colab.kernel.invokeFunction('convertToInteractive',\n",
              "                                                     [key], {});\n",
              "          if (!dataTable) return;\n",
              "\n",
              "          const docLinkHtml = 'Like what you see? Visit the ' +\n",
              "            '<a target=\"_blank\" href=https://colab.research.google.com/notebooks/data_table.ipynb>data table notebook</a>'\n",
              "            + ' to learn more about interactive tables.';\n",
              "          element.innerHTML = '';\n",
              "          dataTable['output_type'] = 'display_data';\n",
              "          await google.colab.output.renderOutput(dataTable, element);\n",
              "          const docLink = document.createElement('div');\n",
              "          docLink.innerHTML = docLinkHtml;\n",
              "          element.appendChild(docLink);\n",
              "        }\n",
              "      </script>\n",
              "    </div>\n",
              "  </div>\n",
              "  "
            ]
          },
          "metadata": {},
          "execution_count": 44
        }
      ],
      "source": [
        "grouped_df.sample()"
      ]
    },
    {
      "cell_type": "markdown",
      "id": "f8ad5086",
      "metadata": {
        "id": "f8ad5086"
      },
      "source": [
        "## Feature engineering"
      ]
    },
    {
      "cell_type": "code",
      "source": [
        "grouped_df['month'] = grouped_df['Date'].dt.to_period('M').dt.to_timestamp()"
      ],
      "metadata": {
        "id": "3cG2_bW8FWPu"
      },
      "id": "3cG2_bW8FWPu",
      "execution_count": 45,
      "outputs": []
    },
    {
      "cell_type": "markdown",
      "source": [
        "### Calculate total spend and transaction count of each customer in the past interval."
      ],
      "metadata": {
        "id": "mU0NmtbVQd2m"
      },
      "id": "mU0NmtbVQd2m"
    },
    {
      "cell_type": "code",
      "source": [
        "intervals = ['30D', '182D', '365D']\n",
        "for interval in intervals:\n",
        "    for metric in ['Total Spend', 'Transaction Count']:\n",
        "        grouped_df = grouped_df.set_index('Date')\n",
        "        grouped_df = grouped_df.sort_index()\n",
        "        # group by customer and create a rolling window of the past X minutes\n",
        "        rolling_window = grouped_df.groupby('cc_num')[metric].rolling(interval)\n",
        "        sum_spending = rolling_window.sum()\n",
        "        sum_spending = sum_spending.reset_index()\n",
        "        sum_spending.rename(columns={metric: f'{metric}_past_{interval}'}, inplace=True)\n",
        "        grouped_df = grouped_df.merge(sum_spending, on=['cc_num', 'Date'])"
      ],
      "metadata": {
        "id": "uQLq5IGsMc9w"
      },
      "id": "uQLq5IGsMc9w",
      "execution_count": 46,
      "outputs": []
    },
    {
      "cell_type": "code",
      "source": [
        "grouped_df.sample()"
      ],
      "metadata": {
        "colab": {
          "base_uri": "https://localhost:8080/",
          "height": 179
        },
        "id": "FahUMVnHNpwj",
        "outputId": "07cef4cb-1b37-44a6-9761-1e8e048f2f86"
      },
      "id": "FahUMVnHNpwj",
      "execution_count": 47,
      "outputs": [
        {
          "output_type": "execute_result",
          "data": {
            "text/plain": [
              "                 cc_num       Date  Total Spend  Transaction Count  age  \\\n",
              "505226  377278532426423 2020-11-28        95.84                  1   54   \n",
              "\n",
              "        city_pop      month  Total Spend_past_30D  Transaction Count_past_30D  \\\n",
              "505226    425636 2020-11-01               1356.94                        22.0   \n",
              "\n",
              "        Total Spend_past_182D  Transaction Count_past_182D  \\\n",
              "505226               12238.72                        176.0   \n",
              "\n",
              "        Total Spend_past_365D  Transaction Count_past_365D  \n",
              "505226               25195.56                        360.0  "
            ],
            "text/html": [
              "\n",
              "  <div id=\"df-40e735d3-312a-497d-aa9d-c453fccab6e0\">\n",
              "    <div class=\"colab-df-container\">\n",
              "      <div>\n",
              "<style scoped>\n",
              "    .dataframe tbody tr th:only-of-type {\n",
              "        vertical-align: middle;\n",
              "    }\n",
              "\n",
              "    .dataframe tbody tr th {\n",
              "        vertical-align: top;\n",
              "    }\n",
              "\n",
              "    .dataframe thead th {\n",
              "        text-align: right;\n",
              "    }\n",
              "</style>\n",
              "<table border=\"1\" class=\"dataframe\">\n",
              "  <thead>\n",
              "    <tr style=\"text-align: right;\">\n",
              "      <th></th>\n",
              "      <th>cc_num</th>\n",
              "      <th>Date</th>\n",
              "      <th>Total Spend</th>\n",
              "      <th>Transaction Count</th>\n",
              "      <th>age</th>\n",
              "      <th>city_pop</th>\n",
              "      <th>month</th>\n",
              "      <th>Total Spend_past_30D</th>\n",
              "      <th>Transaction Count_past_30D</th>\n",
              "      <th>Total Spend_past_182D</th>\n",
              "      <th>Transaction Count_past_182D</th>\n",
              "      <th>Total Spend_past_365D</th>\n",
              "      <th>Transaction Count_past_365D</th>\n",
              "    </tr>\n",
              "  </thead>\n",
              "  <tbody>\n",
              "    <tr>\n",
              "      <th>505226</th>\n",
              "      <td>377278532426423</td>\n",
              "      <td>2020-11-28</td>\n",
              "      <td>95.84</td>\n",
              "      <td>1</td>\n",
              "      <td>54</td>\n",
              "      <td>425636</td>\n",
              "      <td>2020-11-01</td>\n",
              "      <td>1356.94</td>\n",
              "      <td>22.0</td>\n",
              "      <td>12238.72</td>\n",
              "      <td>176.0</td>\n",
              "      <td>25195.56</td>\n",
              "      <td>360.0</td>\n",
              "    </tr>\n",
              "  </tbody>\n",
              "</table>\n",
              "</div>\n",
              "      <button class=\"colab-df-convert\" onclick=\"convertToInteractive('df-40e735d3-312a-497d-aa9d-c453fccab6e0')\"\n",
              "              title=\"Convert this dataframe to an interactive table.\"\n",
              "              style=\"display:none;\">\n",
              "        \n",
              "  <svg xmlns=\"http://www.w3.org/2000/svg\" height=\"24px\"viewBox=\"0 0 24 24\"\n",
              "       width=\"24px\">\n",
              "    <path d=\"M0 0h24v24H0V0z\" fill=\"none\"/>\n",
              "    <path d=\"M18.56 5.44l.94 2.06.94-2.06 2.06-.94-2.06-.94-.94-2.06-.94 2.06-2.06.94zm-11 1L8.5 8.5l.94-2.06 2.06-.94-2.06-.94L8.5 2.5l-.94 2.06-2.06.94zm10 10l.94 2.06.94-2.06 2.06-.94-2.06-.94-.94-2.06-.94 2.06-2.06.94z\"/><path d=\"M17.41 7.96l-1.37-1.37c-.4-.4-.92-.59-1.43-.59-.52 0-1.04.2-1.43.59L10.3 9.45l-7.72 7.72c-.78.78-.78 2.05 0 2.83L4 21.41c.39.39.9.59 1.41.59.51 0 1.02-.2 1.41-.59l7.78-7.78 2.81-2.81c.8-.78.8-2.07 0-2.86zM5.41 20L4 18.59l7.72-7.72 1.47 1.35L5.41 20z\"/>\n",
              "  </svg>\n",
              "      </button>\n",
              "      \n",
              "  <style>\n",
              "    .colab-df-container {\n",
              "      display:flex;\n",
              "      flex-wrap:wrap;\n",
              "      gap: 12px;\n",
              "    }\n",
              "\n",
              "    .colab-df-convert {\n",
              "      background-color: #E8F0FE;\n",
              "      border: none;\n",
              "      border-radius: 50%;\n",
              "      cursor: pointer;\n",
              "      display: none;\n",
              "      fill: #1967D2;\n",
              "      height: 32px;\n",
              "      padding: 0 0 0 0;\n",
              "      width: 32px;\n",
              "    }\n",
              "\n",
              "    .colab-df-convert:hover {\n",
              "      background-color: #E2EBFA;\n",
              "      box-shadow: 0px 1px 2px rgba(60, 64, 67, 0.3), 0px 1px 3px 1px rgba(60, 64, 67, 0.15);\n",
              "      fill: #174EA6;\n",
              "    }\n",
              "\n",
              "    [theme=dark] .colab-df-convert {\n",
              "      background-color: #3B4455;\n",
              "      fill: #D2E3FC;\n",
              "    }\n",
              "\n",
              "    [theme=dark] .colab-df-convert:hover {\n",
              "      background-color: #434B5C;\n",
              "      box-shadow: 0px 1px 3px 1px rgba(0, 0, 0, 0.15);\n",
              "      filter: drop-shadow(0px 1px 2px rgba(0, 0, 0, 0.3));\n",
              "      fill: #FFFFFF;\n",
              "    }\n",
              "  </style>\n",
              "\n",
              "      <script>\n",
              "        const buttonEl =\n",
              "          document.querySelector('#df-40e735d3-312a-497d-aa9d-c453fccab6e0 button.colab-df-convert');\n",
              "        buttonEl.style.display =\n",
              "          google.colab.kernel.accessAllowed ? 'block' : 'none';\n",
              "\n",
              "        async function convertToInteractive(key) {\n",
              "          const element = document.querySelector('#df-40e735d3-312a-497d-aa9d-c453fccab6e0');\n",
              "          const dataTable =\n",
              "            await google.colab.kernel.invokeFunction('convertToInteractive',\n",
              "                                                     [key], {});\n",
              "          if (!dataTable) return;\n",
              "\n",
              "          const docLinkHtml = 'Like what you see? Visit the ' +\n",
              "            '<a target=\"_blank\" href=https://colab.research.google.com/notebooks/data_table.ipynb>data table notebook</a>'\n",
              "            + ' to learn more about interactive tables.';\n",
              "          element.innerHTML = '';\n",
              "          dataTable['output_type'] = 'display_data';\n",
              "          await google.colab.output.renderOutput(dataTable, element);\n",
              "          const docLink = document.createElement('div');\n",
              "          docLink.innerHTML = docLinkHtml;\n",
              "          element.appendChild(docLink);\n",
              "        }\n",
              "      </script>\n",
              "    </div>\n",
              "  </div>\n",
              "  "
            ]
          },
          "metadata": {},
          "execution_count": 47
        }
      ]
    },
    {
      "cell_type": "markdown",
      "source": [
        "### Transform past spending behaviors into different features."
      ],
      "metadata": {
        "id": "4qxZkbGyRd5k"
      },
      "id": "4qxZkbGyRd5k"
    },
    {
      "cell_type": "code",
      "source": [
        "# Group the data by month and year, and calculate the sum of total spend\n",
        "time_df = grouped_df.groupby(['month', 'cc_num']).agg(\n",
        "    {'Total Spend': 'sum', \n",
        "     'Transaction Count':'sum',\n",
        "     'Total Spend_past_30D': 'mean',\n",
        "     'Transaction Count_past_30D': 'mean',\n",
        "     'Total Spend_past_182D': 'mean',\n",
        "     'Transaction Count_past_182D': 'mean',\n",
        "     'Total Spend_past_365D': 'mean',\n",
        "     'Transaction Count_past_365D': 'mean'\n",
        "     })\n",
        "time_df = time_df.sort_values(by=['month'])\n",
        "\n",
        "# Calculate the last month spend and last two month spend\n",
        "for x in [1, 2, 3]:\n",
        "    time_df[f'last_{x}_month_spend'] = time_df.groupby('cc_num')['Total Spend'].shift(x)\n",
        "    time_df[f'last_{x}_month_transaction_count'] = time_df.groupby('cc_num')['Transaction Count'].shift(x)\n",
        "    time_df[f'last_{x}_month_spend_per_tran'] = time_df[f'last_{x}_month_spend']/time_df[f'last_{x}_month_transaction_count']\n",
        "\n",
        "    if x > 1:\n",
        "        time_df[f'last_{x}_month_spend'].fillna(time_df['Total Spend'].mean(), inplace=True)\n",
        "        time_df[f'last_{x}_month_transaction_count'].fillna(time_df['Transaction Count'].mean(), inplace=True)\n",
        "        time_df[f'last_{x}_month_spend_per_tran'].fillna(time_df[f'last_{x}_month_spend_per_tran'].mean(), inplace=True)\n",
        "\n"
      ],
      "metadata": {
        "id": "QUWtmDITKr8c"
      },
      "id": "QUWtmDITKr8c",
      "execution_count": 48,
      "outputs": []
    },
    {
      "cell_type": "markdown",
      "source": [
        "### Get the next month spend as the target variable."
      ],
      "metadata": {
        "id": "CHFk2yFARrgp"
      },
      "id": "CHFk2yFARrgp"
    },
    {
      "cell_type": "code",
      "source": [
        "# get total spend of next month - our target variable\n",
        "time_df['next_month_spend'] = time_df.groupby('cc_num')['Total Spend'].shift(-1)\n",
        "\n",
        "time_df = time_df.reset_index()\n",
        "time_df.dropna(inplace=True)\n",
        "time_df.head(2)"
      ],
      "metadata": {
        "colab": {
          "base_uri": "https://localhost:8080/",
          "height": 228
        },
        "id": "9X2DPQFTLUfe",
        "outputId": "b5562dbd-a415-4c5f-f384-d4e99432e0d7"
      },
      "id": "9X2DPQFTLUfe",
      "execution_count": 49,
      "outputs": [
        {
          "output_type": "execute_result",
          "data": {
            "text/plain": [
              "         month            cc_num  Total Spend  Transaction Count  \\\n",
              "559 2019-01-01  4203265097753962      9925.70                 76   \n",
              "560 2019-01-01  4208581745273533     14730.47                120   \n",
              "\n",
              "     Total Spend_past_30D  Transaction Count_past_30D  Total Spend_past_182D  \\\n",
              "559           5281.082069                   44.034483            5317.333103   \n",
              "560           8203.846333                   66.966667            8269.334000   \n",
              "\n",
              "     Transaction Count_past_182D  Total Spend_past_365D  \\\n",
              "559                     44.37931            5317.333103   \n",
              "560                     67.40000            8269.334000   \n",
              "\n",
              "     Transaction Count_past_365D  last_1_month_spend  \\\n",
              "559                     44.37931              354.35   \n",
              "560                     67.40000              780.18   \n",
              "\n",
              "     last_1_month_transaction_count  last_1_month_spend_per_tran  \\\n",
              "559                             3.0                   118.116667   \n",
              "560                             5.0                   156.036000   \n",
              "\n",
              "     last_2_month_spend  last_2_month_transaction_count  \\\n",
              "559         6796.609809                       98.621798   \n",
              "560         6796.609809                       98.621798   \n",
              "\n",
              "     last_2_month_spend_per_tran  last_3_month_spend  \\\n",
              "559                    69.381332         6796.609809   \n",
              "560                    69.381332         6796.609809   \n",
              "\n",
              "     last_3_month_transaction_count  last_3_month_spend_per_tran  \\\n",
              "559                       98.621798                    69.514481   \n",
              "560                       98.621798                    69.514481   \n",
              "\n",
              "     next_month_spend  \n",
              "559           8743.33  \n",
              "560          16529.49  "
            ],
            "text/html": [
              "\n",
              "  <div id=\"df-499b28f4-319f-4a69-a481-1a5a9f1c090d\">\n",
              "    <div class=\"colab-df-container\">\n",
              "      <div>\n",
              "<style scoped>\n",
              "    .dataframe tbody tr th:only-of-type {\n",
              "        vertical-align: middle;\n",
              "    }\n",
              "\n",
              "    .dataframe tbody tr th {\n",
              "        vertical-align: top;\n",
              "    }\n",
              "\n",
              "    .dataframe thead th {\n",
              "        text-align: right;\n",
              "    }\n",
              "</style>\n",
              "<table border=\"1\" class=\"dataframe\">\n",
              "  <thead>\n",
              "    <tr style=\"text-align: right;\">\n",
              "      <th></th>\n",
              "      <th>month</th>\n",
              "      <th>cc_num</th>\n",
              "      <th>Total Spend</th>\n",
              "      <th>Transaction Count</th>\n",
              "      <th>Total Spend_past_30D</th>\n",
              "      <th>Transaction Count_past_30D</th>\n",
              "      <th>Total Spend_past_182D</th>\n",
              "      <th>Transaction Count_past_182D</th>\n",
              "      <th>Total Spend_past_365D</th>\n",
              "      <th>Transaction Count_past_365D</th>\n",
              "      <th>last_1_month_spend</th>\n",
              "      <th>last_1_month_transaction_count</th>\n",
              "      <th>last_1_month_spend_per_tran</th>\n",
              "      <th>last_2_month_spend</th>\n",
              "      <th>last_2_month_transaction_count</th>\n",
              "      <th>last_2_month_spend_per_tran</th>\n",
              "      <th>last_3_month_spend</th>\n",
              "      <th>last_3_month_transaction_count</th>\n",
              "      <th>last_3_month_spend_per_tran</th>\n",
              "      <th>next_month_spend</th>\n",
              "    </tr>\n",
              "  </thead>\n",
              "  <tbody>\n",
              "    <tr>\n",
              "      <th>559</th>\n",
              "      <td>2019-01-01</td>\n",
              "      <td>4203265097753962</td>\n",
              "      <td>9925.70</td>\n",
              "      <td>76</td>\n",
              "      <td>5281.082069</td>\n",
              "      <td>44.034483</td>\n",
              "      <td>5317.333103</td>\n",
              "      <td>44.37931</td>\n",
              "      <td>5317.333103</td>\n",
              "      <td>44.37931</td>\n",
              "      <td>354.35</td>\n",
              "      <td>3.0</td>\n",
              "      <td>118.116667</td>\n",
              "      <td>6796.609809</td>\n",
              "      <td>98.621798</td>\n",
              "      <td>69.381332</td>\n",
              "      <td>6796.609809</td>\n",
              "      <td>98.621798</td>\n",
              "      <td>69.514481</td>\n",
              "      <td>8743.33</td>\n",
              "    </tr>\n",
              "    <tr>\n",
              "      <th>560</th>\n",
              "      <td>2019-01-01</td>\n",
              "      <td>4208581745273533</td>\n",
              "      <td>14730.47</td>\n",
              "      <td>120</td>\n",
              "      <td>8203.846333</td>\n",
              "      <td>66.966667</td>\n",
              "      <td>8269.334000</td>\n",
              "      <td>67.40000</td>\n",
              "      <td>8269.334000</td>\n",
              "      <td>67.40000</td>\n",
              "      <td>780.18</td>\n",
              "      <td>5.0</td>\n",
              "      <td>156.036000</td>\n",
              "      <td>6796.609809</td>\n",
              "      <td>98.621798</td>\n",
              "      <td>69.381332</td>\n",
              "      <td>6796.609809</td>\n",
              "      <td>98.621798</td>\n",
              "      <td>69.514481</td>\n",
              "      <td>16529.49</td>\n",
              "    </tr>\n",
              "  </tbody>\n",
              "</table>\n",
              "</div>\n",
              "      <button class=\"colab-df-convert\" onclick=\"convertToInteractive('df-499b28f4-319f-4a69-a481-1a5a9f1c090d')\"\n",
              "              title=\"Convert this dataframe to an interactive table.\"\n",
              "              style=\"display:none;\">\n",
              "        \n",
              "  <svg xmlns=\"http://www.w3.org/2000/svg\" height=\"24px\"viewBox=\"0 0 24 24\"\n",
              "       width=\"24px\">\n",
              "    <path d=\"M0 0h24v24H0V0z\" fill=\"none\"/>\n",
              "    <path d=\"M18.56 5.44l.94 2.06.94-2.06 2.06-.94-2.06-.94-.94-2.06-.94 2.06-2.06.94zm-11 1L8.5 8.5l.94-2.06 2.06-.94-2.06-.94L8.5 2.5l-.94 2.06-2.06.94zm10 10l.94 2.06.94-2.06 2.06-.94-2.06-.94-.94-2.06-.94 2.06-2.06.94z\"/><path d=\"M17.41 7.96l-1.37-1.37c-.4-.4-.92-.59-1.43-.59-.52 0-1.04.2-1.43.59L10.3 9.45l-7.72 7.72c-.78.78-.78 2.05 0 2.83L4 21.41c.39.39.9.59 1.41.59.51 0 1.02-.2 1.41-.59l7.78-7.78 2.81-2.81c.8-.78.8-2.07 0-2.86zM5.41 20L4 18.59l7.72-7.72 1.47 1.35L5.41 20z\"/>\n",
              "  </svg>\n",
              "      </button>\n",
              "      \n",
              "  <style>\n",
              "    .colab-df-container {\n",
              "      display:flex;\n",
              "      flex-wrap:wrap;\n",
              "      gap: 12px;\n",
              "    }\n",
              "\n",
              "    .colab-df-convert {\n",
              "      background-color: #E8F0FE;\n",
              "      border: none;\n",
              "      border-radius: 50%;\n",
              "      cursor: pointer;\n",
              "      display: none;\n",
              "      fill: #1967D2;\n",
              "      height: 32px;\n",
              "      padding: 0 0 0 0;\n",
              "      width: 32px;\n",
              "    }\n",
              "\n",
              "    .colab-df-convert:hover {\n",
              "      background-color: #E2EBFA;\n",
              "      box-shadow: 0px 1px 2px rgba(60, 64, 67, 0.3), 0px 1px 3px 1px rgba(60, 64, 67, 0.15);\n",
              "      fill: #174EA6;\n",
              "    }\n",
              "\n",
              "    [theme=dark] .colab-df-convert {\n",
              "      background-color: #3B4455;\n",
              "      fill: #D2E3FC;\n",
              "    }\n",
              "\n",
              "    [theme=dark] .colab-df-convert:hover {\n",
              "      background-color: #434B5C;\n",
              "      box-shadow: 0px 1px 3px 1px rgba(0, 0, 0, 0.15);\n",
              "      filter: drop-shadow(0px 1px 2px rgba(0, 0, 0, 0.3));\n",
              "      fill: #FFFFFF;\n",
              "    }\n",
              "  </style>\n",
              "\n",
              "      <script>\n",
              "        const buttonEl =\n",
              "          document.querySelector('#df-499b28f4-319f-4a69-a481-1a5a9f1c090d button.colab-df-convert');\n",
              "        buttonEl.style.display =\n",
              "          google.colab.kernel.accessAllowed ? 'block' : 'none';\n",
              "\n",
              "        async function convertToInteractive(key) {\n",
              "          const element = document.querySelector('#df-499b28f4-319f-4a69-a481-1a5a9f1c090d');\n",
              "          const dataTable =\n",
              "            await google.colab.kernel.invokeFunction('convertToInteractive',\n",
              "                                                     [key], {});\n",
              "          if (!dataTable) return;\n",
              "\n",
              "          const docLinkHtml = 'Like what you see? Visit the ' +\n",
              "            '<a target=\"_blank\" href=https://colab.research.google.com/notebooks/data_table.ipynb>data table notebook</a>'\n",
              "            + ' to learn more about interactive tables.';\n",
              "          element.innerHTML = '';\n",
              "          dataTable['output_type'] = 'display_data';\n",
              "          await google.colab.output.renderOutput(dataTable, element);\n",
              "          const docLink = document.createElement('div');\n",
              "          docLink.innerHTML = docLinkHtml;\n",
              "          element.appendChild(docLink);\n",
              "        }\n",
              "      </script>\n",
              "    </div>\n",
              "  </div>\n",
              "  "
            ]
          },
          "metadata": {},
          "execution_count": 49
        }
      ]
    },
    {
      "cell_type": "code",
      "source": [
        "time_df['spend_diff_ratio'] = (time_df['next_month_spend'] - time_df['Total Spend'])/time_df['Total Spend']\n",
        "time_df['has_sig_increase'] = (time_df['spend_diff_ratio'] > 0.3).astype(int)\n",
        "\n",
        "time_df.drop(['next_month_spend', 'spend_diff_ratio'], axis=1, inplace=True)"
      ],
      "metadata": {
        "id": "VXOCB4pDGNLf"
      },
      "id": "VXOCB4pDGNLf",
      "execution_count": 50,
      "outputs": []
    },
    {
      "cell_type": "markdown",
      "source": [
        "## Split data"
      ],
      "metadata": {
        "id": "dWALasnzSEOa"
      },
      "id": "dWALasnzSEOa"
    },
    {
      "cell_type": "markdown",
      "source": [
        "We want to use past spending behaviors to predict future's spending (has significant increase or not). \n",
        "Therefore, we split the data using transaction month.\n",
        "- 80% of historical data is used for training.\n",
        "- The remaining 20% data is used for validation and testing, which are split randomly with 50-50 ratio."
      ],
      "metadata": {
        "id": "huIzBokQr1ns"
      },
      "id": "huIzBokQr1ns"
    },
    {
      "cell_type": "code",
      "source": [
        "target = 'has_sig_increase'\n",
        "data_to_fit = time_df.copy().sort_values(by='month')\n",
        "\n",
        "train_ratio = 0.8\n",
        "val_test_ratio = 0.2\n",
        "\n",
        "num_rows = data_to_fit.shape[0]\n",
        "train_split = int(train_ratio * num_rows)\n",
        "train_df = data_to_fit.iloc[:train_split].reset_index(drop=True)\n",
        "val_test_df = data_to_fit.iloc[train_split:].reset_index(drop=True)\n",
        "print(f\"Train data transaction date range: {train_df['month'].min()} - {train_df['month'].max()}\")\n",
        "print(f\"Validation-test data transaction date range: {val_test_df['month'].min()} - {val_test_df['month'].max()}\")\n",
        "\n",
        "# drop uncessary columns\n",
        "train_df.drop(['month', 'cc_num'], axis=1, inplace=True)\n",
        "features = [f for f in train_df.columns if f!= target]\n",
        "\n",
        "# randomly split val and test dataset\n",
        "x_val, x_test, y_val, y_test = train_test_split(val_test_df[features], val_test_df[target], stratify=val_test_df[target], test_size=0.5, random_state=3)"
      ],
      "metadata": {
        "colab": {
          "base_uri": "https://localhost:8080/"
        },
        "id": "_7PrCrw3ghyq",
        "outputId": "a450b60a-1c34-488c-80ef-f7150881dbf5"
      },
      "id": "_7PrCrw3ghyq",
      "execution_count": 51,
      "outputs": [
        {
          "output_type": "stream",
          "name": "stdout",
          "text": [
            "Train data transaction date range: 2019-01-01 00:00:00 - 2022-03-01 00:00:00\n",
            "Validation-test data transaction date range: 2022-03-01 00:00:00 - 2022-11-01 00:00:00\n"
          ]
        }
      ]
    },
    {
      "cell_type": "code",
      "source": [
        "y_train = train_df[target]\n",
        "x_train = train_df[features].copy()\n",
        "\n",
        "# combine x_train and x_val into predefined train/ val set for Automatic hyperparameter tuning\n",
        "x_train_copy = x_train.copy()\n",
        "x_val_copy = x_val.copy()\n",
        "x_train_copy['test_fold'] = -1\n",
        "x_val_copy['test_fold'] = 0\n",
        "x_train_val = pd.concat([x_train_copy, x_val_copy], axis=0)\n",
        "y_train_val = pd.concat([y_train, y_val], axis=0)\n",
        "\n",
        "test_fold = x_train_val['test_fold'].values\n",
        "ps = PredefinedSplit(test_fold=test_fold)\n",
        "\n",
        "print(f'Train data: {x_train.shape}')\n",
        "print(f'Val data: {x_val.shape}')\n",
        "print(f'Test data: {x_test.shape}')"
      ],
      "metadata": {
        "colab": {
          "base_uri": "https://localhost:8080/"
        },
        "id": "nsYWZ6oTgmdo",
        "outputId": "8d6b36ef-27fa-45c0-91a7-b26682d367b5"
      },
      "id": "nsYWZ6oTgmdo",
      "execution_count": 52,
      "outputs": [
        {
          "output_type": "stream",
          "name": "stdout",
          "text": [
            "Train data: (33475, 17)\n",
            "Val data: (4184, 17)\n",
            "Test data: (4185, 17)\n"
          ]
        }
      ]
    },
    {
      "cell_type": "code",
      "source": [
        "features"
      ],
      "metadata": {
        "colab": {
          "base_uri": "https://localhost:8080/"
        },
        "id": "NPTo8KHUhAmh",
        "outputId": "86b3b349-1031-4f58-8c16-c544be93d74f"
      },
      "id": "NPTo8KHUhAmh",
      "execution_count": 53,
      "outputs": [
        {
          "output_type": "execute_result",
          "data": {
            "text/plain": [
              "['Total Spend',\n",
              " 'Transaction Count',\n",
              " 'Total Spend_past_30D',\n",
              " 'Transaction Count_past_30D',\n",
              " 'Total Spend_past_182D',\n",
              " 'Transaction Count_past_182D',\n",
              " 'Total Spend_past_365D',\n",
              " 'Transaction Count_past_365D',\n",
              " 'last_1_month_spend',\n",
              " 'last_1_month_transaction_count',\n",
              " 'last_1_month_spend_per_tran',\n",
              " 'last_2_month_spend',\n",
              " 'last_2_month_transaction_count',\n",
              " 'last_2_month_spend_per_tran',\n",
              " 'last_3_month_spend',\n",
              " 'last_3_month_transaction_count',\n",
              " 'last_3_month_spend_per_tran']"
            ]
          },
          "metadata": {},
          "execution_count": 53
        }
      ]
    },
    {
      "cell_type": "code",
      "source": [
        "print(f'X_train_val shape: {x_train.shape}')\n",
        "print(f\"y_train_val distribution: 1: {sum(y_train)} | 0: {len(y_train)- sum(y_train) }\")\n",
        "print(f'x_val shape: {x_val.shape}')\n",
        "print(f\"y_val distribution: 1: {sum(y_val)} | 0: {len(y_val)- sum(y_val) }\")\n",
        "print(f'x_test shape: {x_test.shape}')\n",
        "print(f\"y_test distribution: 1: {sum(y_test)} | 0: {len(y_test)- sum(y_test) }\")"
      ],
      "metadata": {
        "colab": {
          "base_uri": "https://localhost:8080/"
        },
        "id": "Kpi4XWebHlQ5",
        "outputId": "bd394ae1-7648-4da9-fd0c-b59809347d2f"
      },
      "id": "Kpi4XWebHlQ5",
      "execution_count": 54,
      "outputs": [
        {
          "output_type": "stream",
          "name": "stdout",
          "text": [
            "X_train_val shape: (33475, 17)\n",
            "y_train_val distribution: 1: 10213 | 0: 23262\n",
            "x_val shape: (4184, 17)\n",
            "y_val distribution: 1: 1172 | 0: 3012\n",
            "x_test shape: (4185, 17)\n",
            "y_test distribution: 1: 1172 | 0: 3013\n"
          ]
        }
      ]
    },
    {
      "cell_type": "markdown",
      "source": [
        "# Assess the baseline"
      ],
      "metadata": {
        "id": "Z2Tni0nkGkya"
      },
      "id": "Z2Tni0nkGkya"
    },
    {
      "cell_type": "code",
      "source": [
        "# source: MLAA - Lab 5 - Exercise 3 - Solutions https://colab.research.google.com/drive/1XygeQMupiP8CQSwJQ0f53Zg81rpLJIx2?usp=share_link#scrollTo=I_CsEciog4bA\n",
        "y_mode = 0  \n",
        "y_base = np.full(y_train.shape[0], y_mode)\n",
        "f1_average = 'macro'\n",
        "baseline_f1 = f1_score(y_train, y_base, average=f1_average)\n",
        "print('Baseline F1 score', baseline_f1)"
      ],
      "metadata": {
        "colab": {
          "base_uri": "https://localhost:8080/"
        },
        "id": "dQ9sy7-KIPAB",
        "outputId": "f5626104-d390-428c-aaa3-14b1e974c4d7"
      },
      "id": "dQ9sy7-KIPAB",
      "execution_count": 55,
      "outputs": [
        {
          "output_type": "stream",
          "name": "stdout",
          "text": [
            "Baseline F1 score 0.4099970037189136\n"
          ]
        }
      ]
    },
    {
      "cell_type": "markdown",
      "source": [
        "# Modeling - Logistic Regression"
      ],
      "metadata": {
        "id": "db2byI2zrEUt"
      },
      "id": "db2byI2zrEUt"
    },
    {
      "cell_type": "code",
      "source": [
        "from sklearn.linear_model import LogisticRegression\n",
        "# source: https://scikit-learn.org/stable/modules/generated/sklearn.linear_model.LogisticRegression.html#sklearn.linear_model.LogisticRegression\n",
        "scaler = preprocessing.StandardScaler(with_mean=True)\n",
        "k_folds = 10\n",
        "scoring = 'f1_macro'\n",
        "f1_average = 'macro'\n",
        "random_state = 43"
      ],
      "metadata": {
        "id": "ILkfgZJnJezA"
      },
      "id": "ILkfgZJnJezA",
      "execution_count": 56,
      "outputs": []
    },
    {
      "cell_type": "markdown",
      "source": [
        "## Tune hyperparmeters manually"
      ],
      "metadata": {
        "id": "3rpJBWCzbc7T"
      },
      "id": "3rpJBWCzbc7T"
    },
    {
      "cell_type": "code",
      "source": [
        "solvers = ['lbfgs', 'liblinear', 'newton-cg', 'newton-cholesky', 'sag', 'saga']\n",
        "\n",
        "for solver in solvers:\n",
        "    print(f'Experiment solver = {solver}')\n",
        "    lr_clf = LogisticRegression(\n",
        "        penalty='l2',\n",
        "        tol=1e-4,\n",
        "        solver=solver,\n",
        "        class_weight='balanced',\n",
        "        max_iter=500,\n",
        "        C=0.1,\n",
        "        random_state=random_state\n",
        "    )\n",
        "    \n",
        "    # source: https://scikit-learn.org/stable/tutorial/statistical_inference/putting_together.html\n",
        "    lr_pipeline = Pipeline(\n",
        "        steps=[\n",
        "            (\"scaler\", scaler), \n",
        "            (\"logistic\", lr_clf)]\n",
        "    )\n",
        "    lr_pipeline.fit(x_train, y_train)\n",
        "    y_train_pred = lr_pipeline.predict(x_train)\n",
        "    y_val_pred = lr_pipeline.predict(x_val)\n",
        "    print('Train f1 score:', f1_score(y_train, y_train_pred, average=f1_average))\n",
        "    print('Validation f1 score:', f1_score(y_val, y_val_pred, average=f1_average))\n",
        "    print('---')"
      ],
      "metadata": {
        "colab": {
          "base_uri": "https://localhost:8080/"
        },
        "id": "Byp1Pib7kiZA",
        "outputId": "26a1a68c-b275-4799-85b3-c7352396bb14"
      },
      "id": "Byp1Pib7kiZA",
      "execution_count": 57,
      "outputs": [
        {
          "output_type": "stream",
          "name": "stdout",
          "text": [
            "Experiment solver = lbfgs\n",
            "Train f1 score: 0.6183566920601417\n",
            "Validation f1 score: 0.6440696071080443\n",
            "---\n",
            "Experiment solver = liblinear\n",
            "Train f1 score: 0.6182572733823564\n",
            "Validation f1 score: 0.6440696071080443\n",
            "---\n",
            "Experiment solver = newton-cg\n",
            "Train f1 score: 0.6183566920601417\n",
            "Validation f1 score: 0.6440696071080443\n",
            "---\n",
            "Experiment solver = newton-cholesky\n",
            "Train f1 score: 0.6183298797543793\n",
            "Validation f1 score: 0.6440696071080443\n",
            "---\n",
            "Experiment solver = sag\n",
            "Train f1 score: 0.6183298797543793\n",
            "Validation f1 score: 0.6440696071080443\n",
            "---\n",
            "Experiment solver = saga\n",
            "Train f1 score: 0.6182873913011031\n",
            "Validation f1 score: 0.6440696071080443\n",
            "---\n"
          ]
        }
      ]
    },
    {
      "cell_type": "code",
      "source": [
        "l1_ratios = [i/10 for i in range(1, 10, 2)]\n",
        "for l1_ratio in l1_ratios:\n",
        "    print(f'Experiment l1_ratio = {l1_ratio}')\n",
        "    lr_clf = LogisticRegression(\n",
        "        penalty='elasticnet',\n",
        "        tol=1e-4,\n",
        "        solver='saga',\n",
        "        class_weight='balanced',\n",
        "        max_iter=800,\n",
        "        C=0.1,\n",
        "        l1_ratio=l1_ratio,\n",
        "        random_state=random_state\n",
        "    )\n",
        "    \n",
        "    # source: https://scikit-learn.org/stable/tutorial/statistical_inference/putting_together.html\n",
        "    lr_pipeline = Pipeline(\n",
        "        steps=[\n",
        "            (\"scaler\", scaler), \n",
        "            (\"logistic\", lr_clf)]\n",
        "    )\n",
        "    lr_pipeline.fit(x_train, y_train)\n",
        "    y_train_pred = lr_pipeline.predict(x_train)\n",
        "    y_val_pred = lr_pipeline.predict(x_val)\n",
        "    print('Train f1 score:', f1_score(y_train, y_train_pred, average=f1_average))\n",
        "    print('Validation f1 score:', f1_score(y_val, y_val_pred, average=f1_average))\n",
        "    print('---')"
      ],
      "metadata": {
        "colab": {
          "base_uri": "https://localhost:8080/"
        },
        "id": "suUKpaU3egVU",
        "outputId": "2d752ff8-99d1-4454-8cef-e243e130254b"
      },
      "id": "suUKpaU3egVU",
      "execution_count": 23,
      "outputs": [
        {
          "output_type": "stream",
          "name": "stdout",
          "text": [
            "Experiment l1_ratio = 0.1\n",
            "Train f1 score: 0.6181644663808233\n",
            "Validation f1 score: 0.6440696071080443\n",
            "---\n",
            "Experiment l1_ratio = 0.3\n",
            "Train f1 score: 0.6182873913011031\n",
            "Validation f1 score: 0.6446080797145375\n",
            "---\n",
            "Experiment l1_ratio = 0.5\n",
            "Train f1 score: 0.6183220423868387\n",
            "Validation f1 score: 0.6449413580534844\n",
            "---\n",
            "Experiment l1_ratio = 0.7\n",
            "Train f1 score: 0.6183723592842619\n",
            "Validation f1 score: 0.6449413580534844\n",
            "---\n",
            "Experiment l1_ratio = 0.9\n",
            "Train f1 score: 0.618602536851471\n",
            "Validation f1 score: 0.6450692358921077\n",
            "---\n"
          ]
        }
      ]
    },
    {
      "cell_type": "markdown",
      "source": [
        "## Automatic hyperparameter tuning"
      ],
      "metadata": {
        "id": "MGCISnXDkfps"
      },
      "id": "MGCISnXDkfps"
    },
    {
      "cell_type": "code",
      "source": [
        "log_reg = LogisticRegression(random_state=random_state)\n",
        "\n",
        "reg_pipe = Pipeline(\n",
        "    steps=[\n",
        "        (\"scaler\", scaler),\n",
        "        (\"reg\", log_reg)\n",
        "    ]\n",
        ")\n",
        "\n",
        "parameters = {\n",
        "            'logistic__penalty': ['l2', 'elasticnet'],\n",
        "            'logistic__tol': [i/10000 for i in range(1, 12, 10)],\n",
        "            'logistic__solver': ['saga'], # https://scikit-learn.org/stable/modules/generated/sklearn.linear_model.LogisticRegression.html#sklearn.linear_model.LogisticRegression:~:text=Warning%20The%20choice%20of%20the%20algorithm%20depends%20on%20the%20penalty%20chosen.%20Supported%20penalties%20by%20solver%3A\n",
        "            'logistic__class_weight': ['balanced'],\n",
        "            'logistic__max_iter': range(500, 900, 100),\n",
        "            'logistic__l1_ratio': [i/10 for i in range(5, 10, 2)],\n",
        "            'logistic__C': [i/10 for i in range(1, 11, 5)]\n",
        "    }\n",
        "    \n",
        "# source: https://scikit-learn.org/stable/tutorial/statistical_inference/putting_together.html\n",
        "lr_pipeline = Pipeline(\n",
        "    steps=[\n",
        "        (\"scaler\", scaler), \n",
        "        (\"logistic\", lr_clf)]\n",
        ")\n",
        "\n",
        "search = RandomizedSearchCV(\n",
        "    estimator=lr_pipeline,\n",
        "    param_distributions=parameters,\n",
        "    cv=ps, # predefined split\n",
        "    scoring=scoring,\n",
        "    return_train_score=True\n",
        ")\n",
        "# execute search\n",
        "result = search.fit(x_train_val, y_train_val)\n",
        "\n",
        "print('est=%.3f, cfg=%s' % (result.best_score_, result.best_params_))\n",
        "\n",
        "best_est = result.best_estimator_"
      ],
      "metadata": {
        "id": "2wkCugzqf0Jm",
        "colab": {
          "base_uri": "https://localhost:8080/"
        },
        "outputId": "67a77426-e159-44ad-d0f7-e5f38a870a53"
      },
      "id": "2wkCugzqf0Jm",
      "execution_count": 24,
      "outputs": [
        {
          "output_type": "stream",
          "name": "stderr",
          "text": [
            "/usr/local/lib/python3.10/dist-packages/sklearn/linear_model/_logistic.py:1165: UserWarning: l1_ratio parameter is only used when penalty is 'elasticnet'. Got (penalty=l2)\n",
            "  warnings.warn(\n",
            "/usr/local/lib/python3.10/dist-packages/sklearn/linear_model/_logistic.py:1165: UserWarning: l1_ratio parameter is only used when penalty is 'elasticnet'. Got (penalty=l2)\n",
            "  warnings.warn(\n",
            "/usr/local/lib/python3.10/dist-packages/sklearn/linear_model/_logistic.py:1165: UserWarning: l1_ratio parameter is only used when penalty is 'elasticnet'. Got (penalty=l2)\n",
            "  warnings.warn(\n",
            "/usr/local/lib/python3.10/dist-packages/sklearn/linear_model/_logistic.py:1165: UserWarning: l1_ratio parameter is only used when penalty is 'elasticnet'. Got (penalty=l2)\n",
            "  warnings.warn(\n",
            "/usr/local/lib/python3.10/dist-packages/sklearn/linear_model/_logistic.py:1165: UserWarning: l1_ratio parameter is only used when penalty is 'elasticnet'. Got (penalty=l2)\n",
            "  warnings.warn(\n",
            "/usr/local/lib/python3.10/dist-packages/sklearn/linear_model/_logistic.py:1165: UserWarning: l1_ratio parameter is only used when penalty is 'elasticnet'. Got (penalty=l2)\n",
            "  warnings.warn(\n",
            "/usr/local/lib/python3.10/dist-packages/sklearn/linear_model/_logistic.py:1165: UserWarning: l1_ratio parameter is only used when penalty is 'elasticnet'. Got (penalty=l2)\n",
            "  warnings.warn(\n",
            "/usr/local/lib/python3.10/dist-packages/sklearn/linear_model/_logistic.py:1165: UserWarning: l1_ratio parameter is only used when penalty is 'elasticnet'. Got (penalty=l2)\n",
            "  warnings.warn(\n"
          ]
        },
        {
          "output_type": "stream",
          "name": "stdout",
          "text": [
            "est=0.644, cfg={'logistic__tol': 0.0011, 'logistic__solver': 'saga', 'logistic__penalty': 'l2', 'logistic__max_iter': 500, 'logistic__l1_ratio': 0.7, 'logistic__class_weight': 'balanced', 'logistic__C': 0.6}\n"
          ]
        }
      ]
    },
    {
      "cell_type": "code",
      "source": [
        "best_est.fit(x_train, y_train)\n",
        "# get performance metric on training dataset\n",
        "y_train_pred = best_est.predict(x_train)\n",
        "f1_train = f1_score(y_train, y_train_pred, average=f1_average)\n",
        "# evaluate model on the hold out dataset (validation dataset)\n",
        "y_val_pred = best_est.predict(x_val)\n",
        "# evaluate the model \n",
        "f1_val = f1_score(y_val, y_val_pred, average=f1_average)\n",
        "print(f'F1 train: {f1_train}')\n",
        "print(f'F1 val: {f1_val}')"
      ],
      "metadata": {
        "colab": {
          "base_uri": "https://localhost:8080/"
        },
        "id": "pvhFPIHAhLjz",
        "outputId": "914bf5bd-13b2-4153-ae7d-1a5f180751f9"
      },
      "id": "pvhFPIHAhLjz",
      "execution_count": 25,
      "outputs": [
        {
          "output_type": "stream",
          "name": "stderr",
          "text": [
            "/usr/local/lib/python3.10/dist-packages/sklearn/linear_model/_logistic.py:1165: UserWarning: l1_ratio parameter is only used when penalty is 'elasticnet'. Got (penalty=l2)\n",
            "  warnings.warn(\n"
          ]
        },
        {
          "output_type": "stream",
          "name": "stdout",
          "text": [
            "F1 train: 0.6183442768118566\n",
            "F1 val: 0.6444537007039901\n"
          ]
        }
      ]
    },
    {
      "cell_type": "code",
      "source": [
        "ConfusionMatrixDisplay.from_predictions(y_val, y_val_pred, normalize='true')"
      ],
      "metadata": {
        "colab": {
          "base_uri": "https://localhost:8080/",
          "height": 467
        },
        "id": "nxiHfKimXFYR",
        "outputId": "18151227-ad9d-4877-c89b-7818dba1ff1a"
      },
      "id": "nxiHfKimXFYR",
      "execution_count": 26,
      "outputs": [
        {
          "output_type": "execute_result",
          "data": {
            "text/plain": [
              "<sklearn.metrics._plot.confusion_matrix.ConfusionMatrixDisplay at 0x7f87e5efe710>"
            ]
          },
          "metadata": {},
          "execution_count": 26
        },
        {
          "output_type": "display_data",
          "data": {
            "text/plain": [
              "<Figure size 640x480 with 2 Axes>"
            ],
            "image/png": "[encoded data removed]"
          },
          "metadata": {}
        }
      ]
    },
    {
      "cell_type": "markdown",
      "source": [
        "#Comparing the f1_scores on train and validation set of each model tried"
      ],
      "metadata": {
        "id": "nqgLuQWdvH7r"
      },
      "id": "nqgLuQWdvH7r"
    },
    {
      "cell_type": "code",
      "source": [
        "import matplotlib.pyplot as plt\n",
        "\n",
        "# The F1 scores for train and validation data for each model\n",
        "train_f1_scores = [0.61, 0.40, 0.61, 0.70]  # Example train F1 scores for different models\n",
        "val_f1_scores = [0.64, 0.37, 0.51, 0.54]  # Example validation F1 scores for different models\n",
        "\n",
        "# The models' names\n",
        "model_names = ['Logistic Regression', 'KNN', 'Decision Tree', 'Random Forest']  # Example model names\n",
        "\n",
        "# The baseline F1 score\n",
        "baseline_f1_score = 0.40  \n",
        "\n",
        "# Plot the line chart\n",
        "plt.plot(model_names, train_f1_scores, marker='o', label='Train F1 Score')\n",
        "plt.plot(model_names, val_f1_scores, marker='o', label='Validation F1 Score')\n",
        "\n",
        "# Plot the baseline line\n",
        "plt.axhline(y=baseline_f1_score, color='r', linestyle='--', label='Baseline')\n",
        "\n",
        "# Set the chart title and labels\n",
        "plt.title('F1 Scores of Different Models on Train and Validation Data')\n",
        "plt.xlabel('Models')\n",
        "plt.ylabel('F1 Score')\n",
        "\n",
        "# Add a legend\n",
        "plt.legend()\n",
        "\n",
        "# Display the chart\n",
        "plt.show()"
      ],
      "metadata": {
        "colab": {
          "base_uri": "https://localhost:8080/",
          "height": 472
        },
        "id": "phaU2ZxlvBPe",
        "outputId": "183a98e4-499d-4c8d-ced7-5d5ab2baccf5"
      },
      "id": "phaU2ZxlvBPe",
      "execution_count": 61,
      "outputs": [
        {
          "output_type": "display_data",
          "data": {
            "text/plain": [
              "<Figure size 640x480 with 1 Axes>"
            ],
            "image/png": "[encoded data removed]"
          },
          "metadata": {}
        }
      ]
    },
    {
      "cell_type": "markdown",
      "source": [
        "##Trainning a Best Model on the Test set"
      ],
      "metadata": {
        "id": "S6KvAN6RwVnu"
      },
      "id": "S6KvAN6RwVnu"
    },
    {
      "cell_type": "code",
      "source": [
        "lr_pipeline.fit(x_train, y_train)\n",
        "\n",
        "# evaluate model on the hold out dataset (validation dataset)\n",
        "y_test_pred = lr_pipeline.predict(x_test)\n",
        "\n",
        "# evaluate the model \n",
        "f1_test = f1_score(y_test, y_test_pred, average=f1_average)\n",
        "\n",
        "print(\"Training F1 score:\", f1_test)\n",
        "ConfusionMatrixDisplay.from_predictions(y_test, y_test_pred, normalize='true')"
      ],
      "metadata": {
        "colab": {
          "base_uri": "https://localhost:8080/",
          "height": 487
        },
        "id": "vWJlHWf3hh0-",
        "outputId": "00870484-3bb6-4551-eb4c-2168fd6137ee"
      },
      "id": "vWJlHWf3hh0-",
      "execution_count": 60,
      "outputs": [
        {
          "output_type": "stream",
          "name": "stdout",
          "text": [
            "Training F1 score: 0.6334898199032963\n"
          ]
        },
        {
          "output_type": "execute_result",
          "data": {
            "text/plain": [
              "<sklearn.metrics._plot.confusion_matrix.ConfusionMatrixDisplay at 0x7f606b88fe50>"
            ]
          },
          "metadata": {},
          "execution_count": 60
        },
        {
          "output_type": "display_data",
          "data": {
            "text/plain": [
              "<Figure size 640x480 with 2 Axes>"
            ],
            "image/png": "[encoded data removed]"
          },
          "metadata": {}
        }
      ]
    }
  ],
  "metadata": {
    "kernelspec": {
      "display_name": "Python 3 (ipykernel)",
      "language": "python",
      "name": "python3"
    },
    "language_info": {
      "codemirror_mode": {
        "name": "ipython",
        "version": 3
      },
      "file_extension": ".py",
      "mimetype": "text/x-python",
      "name": "python",
      "nbconvert_exporter": "python",
      "pygments_lexer": "ipython3",
      "version": "3.10.8"
    },
    "colab": {
      "provenance": [],
      "toc_visible": true
    }
  },
  "nbformat": 4,
  "nbformat_minor": 5
}